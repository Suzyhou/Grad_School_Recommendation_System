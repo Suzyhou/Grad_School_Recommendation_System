{
 "cells": [
  {
   "cell_type": "code",
   "execution_count": 10,
   "metadata": {},
   "outputs": [],
   "source": [
    "import matplotlib.pyplot as plt\n",
    "import requests"
   ]
  },
  {
   "cell_type": "code",
   "execution_count": 20,
   "metadata": {},
   "outputs": [],
   "source": [
    "def web_scrapping(major,degree_type,num_pages):\n",
    "    DATA_DIR = './data/'\n",
    "    baseurl='https://www.thegradcafe.com/survey/?per_page=40&q=&institution=&program={0}&degree={1}&page={2}'\n",
    "\n",
    "    if __name__ == '__main__':\n",
    "      for i in range(1, num_pages):\n",
    "        url = baseurl.format(major,degree_type,i)\n",
    "        r = requests.get(url)\n",
    "        fname = \"{data_dir}/{page}.html\".format(data_dir=DATA_DIR, page=str(i))\n",
    "        with open(fname, 'wb') as f:\n",
    "            f.write(r.text.encode('UTF-8'))\n",
    "        print(\"getting {0}...\".format(i))"
   ]
  },
  {
   "cell_type": "code",
   "execution_count": null,
   "metadata": {},
   "outputs": [],
   "source": []
  }
 ],
 "metadata": {
  "kernelspec": {
   "display_name": "Python 3",
   "language": "python",
   "name": "python3"
  },
  "language_info": {
   "codemirror_mode": {
    "name": "ipython",
    "version": 3
   },
   "file_extension": ".py",
   "mimetype": "text/x-python",
   "name": "python",
   "nbconvert_exporter": "python",
   "pygments_lexer": "ipython3",
   "version": "3.8.5"
  }
 },
 "nbformat": 4,
 "nbformat_minor": 4
}
